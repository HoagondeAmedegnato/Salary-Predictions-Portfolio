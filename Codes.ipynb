{
 "cells": [
  {
   "cell_type": "markdown",
   "metadata": {},
   "source": [
    "# Salary Predictions: Exploratory Data Analysis (EDA)"
   ]
  },
  {
   "cell_type": "markdown",
   "metadata": {},
   "source": [
    "## Import Python Libraries"
   ]
  },
  {
   "cell_type": "code",
   "execution_count": null,
   "metadata": {},
   "outputs": [],
   "source": [
    "import numpy as np\n",
    "import pandas as pd\n",
    "import seaborn as sns\n",
    "import statsmodels.api as sm\n",
    "import matplotlib.pyplot as plt\n",
    "%matplotlib inline\n",
    "\n",
    "import warnings\n",
    "warnings.filterwarnings('ignore')"
   ]
  },
  {
   "cell_type": "code",
   "execution_count": null,
   "metadata": {},
   "outputs": [],
   "source": [
    "!pip install Seaborn"
   ]
  },
  {
   "cell_type": "code",
   "execution_count": null,
   "metadata": {},
   "outputs": [],
   "source": [
    "import numpy as np\n",
    "from numpy.random import randn\n",
    "import pandas as pd\n",
    "\n",
    "from pandas import Series, DataFrame\n",
    "import matplotlib.pyplot as plt\n",
    "\n",
    "from matplotlib import rcParams\n",
    "\n",
    "import seaborn as sb"
   ]
  },
  {
   "cell_type": "markdown",
   "metadata": {},
   "source": [
    "## Load Data"
   ]
  },
  {
   "cell_type": "markdown",
   "metadata": {},
   "source": [
    "### Read the data file through my Desktop"
   ]
  },
  {
   "cell_type": "code",
   "execution_count": null,
   "metadata": {},
   "outputs": [],
   "source": [
    "data1 = pd.read_csv('data/test_features.csv')\n",
    "data1"
   ]
  },
  {
   "cell_type": "code",
   "execution_count": null,
   "metadata": {},
   "outputs": [],
   "source": [
    "data2 = pd.read_csv('data/train_features.csv')\n",
    "data2"
   ]
  },
  {
   "cell_type": "code",
   "execution_count": null,
   "metadata": {},
   "outputs": [],
   "source": [
    "data3 = pd.read_csv('data/train_salaries.csv')\n",
    "data3"
   ]
  },
  {
   "cell_type": "markdown",
   "metadata": {},
   "source": [
    "## Examine Data"
   ]
  },
  {
   "cell_type": "code",
   "execution_count": null,
   "metadata": {},
   "outputs": [],
   "source": [
    "# Check how many rows we have in data1 and data2 using len() function\n",
    "len(data1)\n",
    "len(data2)"
   ]
  },
  {
   "cell_type": "code",
   "execution_count": null,
   "metadata": {},
   "outputs": [],
   "source": [
    "# Check the columns of data1 and data2\n",
    "data1.columns\n",
    "data2.columns"
   ]
  },
  {
   "cell_type": "code",
   "execution_count": null,
   "metadata": {},
   "outputs": [],
   "source": [
    "# Check how many columns we have in data1 and data2 using len() function\n",
    "len(data1.columns)\n",
    "len(data2.columns)"
   ]
  },
  {
   "cell_type": "code",
   "execution_count": null,
   "metadata": {},
   "outputs": [],
   "source": [
    "# Check the first top 10 rows of data1 using .head() method\n",
    "data1.head(10)"
   ]
  },
  {
   "cell_type": "code",
   "execution_count": null,
   "metadata": {},
   "outputs": [],
   "source": [
    "# Check the bottom 10 rows of data2 using .tail() method\n",
    "data2.tail(10)"
   ]
  },
  {
   "cell_type": "code",
   "execution_count": null,
   "metadata": {},
   "outputs": [],
   "source": [
    "# Check the first top 10 rows of data3 using .head() method\n",
    "data3.head(10)"
   ]
  },
  {
   "cell_type": "code",
   "execution_count": null,
   "metadata": {},
   "outputs": [],
   "source": [
    "# Using .dtypes() to check data types\n",
    "print(data1.dtypes)\n",
    "print(data2.dtypes)\n",
    "print(data3.dtypes)"
   ]
  },
  {
   "cell_type": "code",
   "execution_count": null,
   "metadata": {},
   "outputs": [],
   "source": [
    "# Using .info() to provide a concise summary of Dataset\n",
    "data1.info()\n",
    "data2.info()\n",
    "data3.info()"
   ]
  },
  {
   "cell_type": "code",
   "execution_count": null,
   "metadata": {},
   "outputs": [],
   "source": [
    "# Using .describe(include = 'all') to provide full summary statistics\n",
    "data1.describe(include = 'all')\n",
    "data2.describe(include = 'all')\n",
    "data3.describe(include = 'all')"
   ]
  },
  {
   "cell_type": "code",
   "execution_count": null,
   "metadata": {},
   "outputs": [],
   "source": [
    "# Using .transpose() to transpose the statistics we just got from data2 and data3\n",
    "data2.describe(include = 'all').transpose()\n",
    "data3.describe(include = 'all').transpose()"
   ]
  },
  {
   "cell_type": "markdown",
   "metadata": {},
   "source": [
    "## Data Formatting"
   ]
  },
  {
   "cell_type": "code",
   "execution_count": null,
   "metadata": {},
   "outputs": [],
   "source": [
    "# Correcting data types (Convert data type to integer in column \"salary\")\n",
    "data3['salary'].astype('int')"
   ]
  },
  {
   "cell_type": "markdown",
   "metadata": {},
   "source": [
    "## Descriptive Statistical Analysis: Using \"value counts\" to count each feature"
   ]
  },
  {
   "cell_type": "markdown",
   "metadata": {},
   "source": [
    "### companyId as variable"
   ]
  },
  {
   "cell_type": "code",
   "execution_count": null,
   "metadata": {},
   "outputs": [],
   "source": [
    "# Count the variable\n",
    "data2['companyId'].value_counts()"
   ]
  },
  {
   "cell_type": "code",
   "execution_count": null,
   "metadata": {},
   "outputs": [],
   "source": [
    "# Convert the series to a Dataframe\n",
    "data2['companyId'].value_counts().to_frame()"
   ]
  },
  {
   "cell_type": "code",
   "execution_count": null,
   "metadata": {},
   "outputs": [],
   "source": [
    "# Save the results to the dataframe and Rename the index\n",
    "companyId_counts = data2['companyId'].value_counts().to_frame()\n",
    "companyId_counts.rename(columns = {'companyId': 'value_counts'}, inplace = True)\n",
    "companyId_counts.index.name = 'companyId'\n",
    "companyId_counts"
   ]
  },
  {
   "cell_type": "markdown",
   "metadata": {},
   "source": [
    "### jobType as variable"
   ]
  },
  {
   "cell_type": "code",
   "execution_count": null,
   "metadata": {},
   "outputs": [],
   "source": [
    "# Count the variable\n",
    "data2['jobType'].value_counts()"
   ]
  },
  {
   "cell_type": "code",
   "execution_count": null,
   "metadata": {},
   "outputs": [],
   "source": [
    "# Convert the series to a Dataframe\n",
    "data2['jobType'].value_counts().to_frame()"
   ]
  },
  {
   "cell_type": "code",
   "execution_count": null,
   "metadata": {},
   "outputs": [],
   "source": [
    "# Save the results to the dataframe and Rename the index\n",
    "jobType_counts = data2['jobType'].value_counts().to_frame()\n",
    "jobType_counts.rename(columns = {'jobType': 'value_counts'}, inplace = True)\n",
    "jobType_counts.index.name = 'jobType'\n",
    "jobType_counts.head(10)"
   ]
  },
  {
   "cell_type": "markdown",
   "metadata": {},
   "source": [
    "### degree as variable"
   ]
  },
  {
   "cell_type": "code",
   "execution_count": null,
   "metadata": {},
   "outputs": [],
   "source": [
    "# Count the variable\n",
    "data2['degree'].value_counts()"
   ]
  },
  {
   "cell_type": "code",
   "execution_count": null,
   "metadata": {},
   "outputs": [],
   "source": [
    "# Convert the series to a Dataframe\n",
    "data2['degree'].value_counts().to_frame()"
   ]
  },
  {
   "cell_type": "code",
   "execution_count": null,
   "metadata": {},
   "outputs": [],
   "source": [
    "# Save the results to the dataframe and Rename the index\n",
    "jobType_counts = data2['degree'].value_counts().to_frame()\n",
    "jobType_counts.rename(columns = {'degree': 'value_counts'}, inplace = True)\n",
    "jobType_counts.index.name = 'degree'\n",
    "jobType_counts.tail(10)"
   ]
  },
  {
   "cell_type": "markdown",
   "metadata": {},
   "source": [
    "### major as variable"
   ]
  },
  {
   "cell_type": "code",
   "execution_count": null,
   "metadata": {},
   "outputs": [],
   "source": [
    "# Count the variable\n",
    "data2['major'].value_counts()"
   ]
  },
  {
   "cell_type": "code",
   "execution_count": null,
   "metadata": {},
   "outputs": [],
   "source": [
    "# Convert the series to a Dataframe\n",
    "data2['major'].value_counts().to_frame()"
   ]
  },
  {
   "cell_type": "code",
   "execution_count": null,
   "metadata": {},
   "outputs": [],
   "source": [
    "# Save the results to the dataframe and Rename the index\n",
    "jobType_counts = data2['major'].value_counts().to_frame()\n",
    "jobType_counts.rename(columns = {'major': 'value_counts'}, inplace = True)\n",
    "jobType_counts.index.name = 'major'\n",
    "jobType_counts.tail(10)"
   ]
  },
  {
   "cell_type": "markdown",
   "metadata": {},
   "source": [
    "### industry as variable"
   ]
  },
  {
   "cell_type": "code",
   "execution_count": null,
   "metadata": {},
   "outputs": [],
   "source": [
    "# Count the variable\n",
    "data2['industry'].value_counts()"
   ]
  },
  {
   "cell_type": "code",
   "execution_count": null,
   "metadata": {},
   "outputs": [],
   "source": [
    "# Convert the series to a Dataframe\n",
    "data2['industry'].value_counts().to_frame()"
   ]
  },
  {
   "cell_type": "code",
   "execution_count": null,
   "metadata": {},
   "outputs": [],
   "source": [
    "# Save the results to the dataframe and Rename the index\n",
    "jobType_counts = data2['industry'].value_counts().to_frame()\n",
    "jobType_counts.rename(columns = {'industy': 'value_counts'}, inplace = True)\n",
    "jobType_counts.index.name = 'industry'\n",
    "jobType_counts.head(10)"
   ]
  },
  {
   "cell_type": "markdown",
   "metadata": {},
   "source": [
    "### yearsExperience as variable"
   ]
  },
  {
   "cell_type": "code",
   "execution_count": null,
   "metadata": {},
   "outputs": [],
   "source": [
    "# Count the variable\n",
    "data2['yearsExperience'].value_counts()"
   ]
  },
  {
   "cell_type": "code",
   "execution_count": null,
   "metadata": {},
   "outputs": [],
   "source": [
    "# Convert the series to a Dataframe\n",
    "data2['yearsExperience'].value_counts().to_frame()"
   ]
  },
  {
   "cell_type": "code",
   "execution_count": null,
   "metadata": {},
   "outputs": [],
   "source": [
    "# Save the results to the dataframe and Rename the index\n",
    "jobType_counts = data2['yearsExperience'].value_counts().to_frame()\n",
    "jobType_counts.rename(columns = {'yearsExperience': 'value_counts'}, inplace = True)\n",
    "jobType_counts.index.name = 'yearsExperience'\n",
    "jobType_counts.head(10)"
   ]
  },
  {
   "cell_type": "markdown",
   "metadata": {},
   "source": [
    "### milesFromMetropolis as variable"
   ]
  },
  {
   "cell_type": "code",
   "execution_count": null,
   "metadata": {},
   "outputs": [],
   "source": [
    "# Count the variable\n",
    "data2['milesFromMetropolis'].value_counts()"
   ]
  },
  {
   "cell_type": "code",
   "execution_count": null,
   "metadata": {},
   "outputs": [],
   "source": [
    "# Convert the series to a Dataframe\n",
    "data2['milesFromMetropolis'].value_counts().to_frame()"
   ]
  },
  {
   "cell_type": "code",
   "execution_count": null,
   "metadata": {},
   "outputs": [],
   "source": [
    "# Save the results to the dataframe and Rename the index\n",
    "jobType_counts = data2['milesFromMetropolis'].value_counts().to_frame()\n",
    "jobType_counts.rename(columns = {'milesFromMetropolis': 'value_counts'}, inplace = True)\n",
    "jobType_counts.index.name = 'milesFromMetropolis'\n",
    "jobType_counts.head(10)"
   ]
  },
  {
   "cell_type": "markdown",
   "metadata": {},
   "source": [
    "## Let's work with some potential outliers"
   ]
  },
  {
   "cell_type": "code",
   "execution_count": null,
   "metadata": {},
   "outputs": [],
   "source": [
    "# Let's filter or extract VICE_PRESIDENT columns from jobType and recall data2\n",
    "data2.jobType == 'VICE_PRESIDENT'\n",
    "Filter1 = data2.jobType == 'VICE_PRESIDENT'\n",
    "data2[Filter1]"
   ]
  },
  {
   "cell_type": "code",
   "execution_count": null,
   "metadata": {},
   "outputs": [],
   "source": [
    "# Let's filter or extract DOCTORAL columns from degree and recall data2\n",
    "data2.degree == 'DOCTORAL'\n",
    "Filter2 = data2.degree == 'DOCTORAL'\n",
    "data2[Filter2]"
   ]
  },
  {
   "cell_type": "code",
   "execution_count": null,
   "metadata": {},
   "outputs": [],
   "source": [
    "# Let's filter or extract yearExperience columns and recall data2\n",
    "data2.yearsExperience > 15\n",
    "Filter3 = data2.yearsExperience > 15\n",
    "data2[Filter3]"
   ]
  },
  {
   "cell_type": "code",
   "execution_count": null,
   "metadata": {},
   "outputs": [],
   "source": [
    "# To combine Filter2 and Filter3 to get a data with ONLY DOCTORAL degree which have more than 15 years of experience\n",
    "Filter2 & Filter3\n",
    "data2[Filter2 & Filter3]"
   ]
  },
  {
   "cell_type": "code",
   "execution_count": null,
   "metadata": {},
   "outputs": [],
   "source": [
    "#Let's filter or extract salary columns and recall data3\n",
    "data3['salary'] >= 150\n",
    "Filter4 = data3['salary'] >= 150\n",
    "data3[Filter4]"
   ]
  },
  {
   "cell_type": "code",
   "execution_count": null,
   "metadata": {},
   "outputs": [],
   "source": [
    "# Print out data2 with major MATH only\n",
    "data2[data2.major == 'MATH']"
   ]
  },
  {
   "cell_type": "code",
   "execution_count": null,
   "metadata": {},
   "outputs": [],
   "source": [
    "# Print out data3 with salary less than or equal to 200 only\n",
    "data3[data3.salary <= 200]"
   ]
  },
  {
   "cell_type": "markdown",
   "metadata": {},
   "source": [
    "## Visualization"
   ]
  },
  {
   "cell_type": "code",
   "execution_count": null,
   "metadata": {},
   "outputs": [],
   "source": [
    "## Distribution of salary\n",
    "sns.set_style('darkgrid')\n",
    "Vis1 = sns.distplot(data3['salary'], bins = 20)\n",
    "rcParams['figure.figsize'] = 30,5\n",
    "x = np.arange(0, 5, 0.1)\n",
    "y = np.sin(x)\n",
    "plt.show()\n",
    "\n",
    "## Histogram of salary\n",
    "sns.set_style('dark')\n",
    "plt.hist(data3.salary, bins = 20, color = 'Green')\n",
    "rcParams['figure.figsize'] = 30,5\n",
    "x = np.arange(0, 5, 0.1)\n",
    "y = np.sin(x)\n",
    "plt.show()\n",
    "\n",
    "# By Histogram, let's show the first 10th salary and add a legend\n",
    "sns.set_style('dark')\n",
    "\n",
    "plt.hist(data3.salary[0], color = 'Black', label = data3.jobId[0])\n",
    "plt.hist(data3.salary[1], color = 'Red', label = data3.jobId[1])\n",
    "plt.hist(data3.salary[2], color = 'Green', label = data3.jobId[2])\n",
    "plt.hist(data3.salary[3], color = 'Blue', label = data3.jobId[3])\n",
    "plt.hist(data3.salary[4], color = 'Magenta', label = data3.jobId[4])\n",
    "plt.hist(data3.salary[5], color = 'Gray', label = data3.jobId[5])\n",
    "plt.hist(data3.salary[6], color = 'Yellow', label = data3.jobId[6])\n",
    "plt.hist(data3.salary[7], color = 'Pink', label = data3.jobId[7])\n",
    "plt.hist(data3.salary[8], color = 'Orange', label = data3.jobId[8])\n",
    "plt.hist(data3.salary[9], color = 'Magenta', label = data3.jobId[9])\n",
    "\n",
    "plt.xticks(fontsize = 20)\n",
    "plt.yticks(fontsize = 20)\n",
    "rcParams['figure.figsize'] = 15,10\n",
    "x = np.arange(0, 5, 0.1)\n",
    "y = np.sin(x)\n",
    "plt.xlabel('salary', fontsize = 20, color = 'Blue')\n",
    "plt.ylabel('jobId', fontsize = 20, color = 'Green')\n",
    "plt.title('First 10th Salaries Analysis', fontsize = 30, color = 'DarkBlue', fontname = 'DejaVu Sans')\n",
    "plt.legend(loc = 'upper left', bbox_to_anchor = (1,1))\n",
    "\n",
    "plt.show()"
   ]
  },
  {
   "cell_type": "markdown",
   "metadata": {},
   "source": [
    "### Let's plot each feature"
   ]
  },
  {
   "cell_type": "code",
   "execution_count": null,
   "metadata": {},
   "outputs": [],
   "source": [
    "## companyId\n",
    "sns.set_style('dark')\n",
    "plt.hist(data2.companyId)\n",
    "rcParams['figure.figsize'] = 10,5\n",
    "x = np.arange(0, 5, 0.1)\n",
    "y = np.sin(x)\n",
    "plt.show()\n",
    "\n",
    "## companyId with the salary\n",
    "sns.set_style('darkgrid')\n",
    "plt.hist(data2.companyId, color = 'Orange')\n",
    "plt.hist(data3.salary, color = 'Purple')\n",
    "rcParams['figure.figsize'] = 10,5\n",
    "x = np.arange(0, 5, 0.1)\n",
    "y = np.sin(x)\n",
    "plt.xlabel('companyId', fontsize = 20, color = 'Blue')\n",
    "plt.ylabel('salary', fontsize = 20, color = 'Green')\n",
    "plt.xticks(fontsize = 20)\n",
    "plt.yticks(fontsize = 20)\n",
    "plt.show()"
   ]
  },
  {
   "cell_type": "code",
   "execution_count": null,
   "metadata": {},
   "outputs": [],
   "source": [
    "## jobType\n",
    "sns.set_style('dark')\n",
    "plt.hist(data2.jobType)\n",
    "rcParams['figure.figsize'] = 15,8\n",
    "x = np.arange(0, 5, 0.1)\n",
    "y = np.sin(x)\n",
    "plt.show()\n",
    "\n",
    "## jobType with the salary\n",
    "sns.set_style('dark')\n",
    "plt.hist(data2.jobType, color = 'Red')\n",
    "plt.hist(data3.salary, color = 'Gray')\n",
    "rcParams['figure.figsize'] = 15,8\n",
    "x = np.arange(0, 5, 0.1)\n",
    "y = np.sin(x)\n",
    "plt.xlabel('jobType', fontsize = 20, color = 'Blue')\n",
    "plt.ylabel('salary', fontsize = 20, color = 'Green')\n",
    "plt.xticks(fontsize = 20)\n",
    "plt.yticks(fontsize = 20)\n",
    "plt.show()"
   ]
  },
  {
   "cell_type": "code",
   "execution_count": null,
   "metadata": {},
   "outputs": [],
   "source": [
    "## degree\n",
    "sns.set_style('darkgrid')\n",
    "plt.hist(data2.degree)\n",
    "rcParams['figure.figsize'] = 30,15\n",
    "x = np.arange(0, 5, 0.1)\n",
    "y = np.sin(x)\n",
    "plt.show()\n",
    "\n",
    "## degree with the salary\n",
    "sns.set_style('darkgrid')\n",
    "plt.hist(data2.degree, color = 'Purple')\n",
    "plt.hist(data3.salary, color = 'Blue')\n",
    "rcParams['figure.figsize'] = 30,15\n",
    "x = np.arange(0, 5, 0.1)\n",
    "y = np.sin(x)\n",
    "plt.xlabel('degree', fontsize = 20, color = 'Blue')\n",
    "plt.ylabel('salary', fontsize = 20, color = 'Green')\n",
    "plt.xticks(fontsize = 20)\n",
    "plt.yticks(fontsize = 20)\n",
    "plt.show()"
   ]
  },
  {
   "cell_type": "code",
   "execution_count": null,
   "metadata": {},
   "outputs": [],
   "source": [
    "## major\n",
    "sns.set_style('darkgrid')\n",
    "plt.hist(data2.major)\n",
    "rcParams['figure.figsize'] = 10,5\n",
    "x = np.arange(0, 5, 0.1)\n",
    "y = np.sin(x)\n",
    "plt.show()\n",
    "\n",
    "## major with the salary\n",
    "sns.set_style('white')\n",
    "plt.hist(data2.major, color = 'Purple')\n",
    "plt.hist(data3.salary, color = 'Green')\n",
    "rcParams['figure.figsize'] = 30,5\n",
    "x = np.arange(0, 5, 0.1)\n",
    "y = np.sin(x)\n",
    "plt.xlabel('major', fontsize = 20, color = 'Blue')\n",
    "plt.ylabel('salary', fontsize = 20, color = 'Green')\n",
    "plt.xticks(fontsize = 20)\n",
    "plt.yticks(fontsize = 20)\n",
    "plt.show()"
   ]
  },
  {
   "cell_type": "code",
   "execution_count": null,
   "metadata": {},
   "outputs": [],
   "source": [
    "## industry\n",
    "sns.set_style('white')\n",
    "plt.hist(data2.industry)\n",
    "rcParams['figure.figsize'] = 10,5\n",
    "x = np.arange(0, 5, 0.1)\n",
    "y = np.sin(x)\n",
    "plt.show()\n",
    "\n",
    "## industry with the salary\n",
    "sns.set_style('darkgrid')\n",
    "plt.hist(data2.industry, color = 'Red')\n",
    "plt.hist(data3.salary, color = 'Orange')\n",
    "rcParams['figure.figsize'] = 15,10\n",
    "x = np.arange(0, 5, 0.1)\n",
    "y = np.sin(x)\n",
    "plt.xlabel('industry', fontsize = 20, color = 'Blue')\n",
    "plt.ylabel('salary', fontsize = 20, color = 'Green')\n",
    "plt.xticks(fontsize = 20)\n",
    "plt.yticks(fontsize = 20)\n",
    "plt.show()"
   ]
  },
  {
   "cell_type": "code",
   "execution_count": null,
   "metadata": {},
   "outputs": [],
   "source": [
    "## yearsExperience\n",
    "sns.set_style('darkgrid')\n",
    "plt.hist(data2.yearsExperience)\n",
    "rcParams['figure.figsize'] = 15,8\n",
    "x = np.arange(0, 5, 0.1)\n",
    "y = np.sin(x)\n",
    "plt.show()\n",
    "\n",
    "## yearsExperience with the salary\n",
    "sns.set_style('darkgrid')\n",
    "plt.hist(data2.yearsExperience, color = 'Purple')\n",
    "plt.hist(data3.salary, color = 'Yellow')\n",
    "rcParams['figure.figsize'] = 15,10\n",
    "x = np.arange(0, 5, 0.1)\n",
    "y = np.sin(x)\n",
    "plt.xlabel('yearsExperience', fontsize = 20, color = 'Blue')\n",
    "plt.ylabel('salary', fontsize = 20, color = 'Green')\n",
    "plt.xticks(fontsize = 20)\n",
    "plt.yticks(fontsize = 20)\n",
    "plt.show()"
   ]
  },
  {
   "cell_type": "code",
   "execution_count": null,
   "metadata": {},
   "outputs": [],
   "source": [
    "## milesFromMetropolis\n",
    "sns.set_style('darkgrid')\n",
    "plt.hist(data2.milesFromMetropolis)\n",
    "rcParams['figure.figsize'] = 10,5\n",
    "x = np.arange(0, 5, 0.1)\n",
    "y = np.sin(x)\n",
    "plt.show()\n",
    "\n",
    "## milesFromMetropolis with the salary\n",
    "sns.set_style('dark')\n",
    "plt.hist(data2.milesFromMetropolis, color = 'Red')\n",
    "plt.hist(data3.salary, color = 'Pink')\n",
    "rcParams['figure.figsize'] = 15,10\n",
    "x = np.arange(0, 5, 0.1)\n",
    "y = np.sin(x)\n",
    "plt.xlabel('milesFromMetropolis', fontsize = 20, color = 'Blue')\n",
    "plt.ylabel('salary', fontsize = 20, color = 'Green')\n",
    "plt.xticks(fontsize = 20)\n",
    "plt.yticks(fontsize = 20)\n",
    "plt.show()"
   ]
  },
  {
   "cell_type": "code",
   "execution_count": null,
   "metadata": {},
   "outputs": [],
   "source": [
    "## Jointplots with degree and major\n",
    "j = sns.jointplot(data = data2, x = 'degree', y = 'major')\n",
    "rcParams['figure.figsize'] = 20,15\n",
    "x = np.arange(0, 5, 0.1)\n",
    "y = np.sin(x)\n",
    "plt.show()"
   ]
  },
  {
   "cell_type": "code",
   "execution_count": null,
   "metadata": {},
   "outputs": [],
   "source": [
    "## Violinplots with degree and yearsExperience\n",
    "v = sns.violinplot(data = data2, x = 'degree', y = 'yearsExperience')\n",
    "rcParams['figure.figsize'] = 10,5\n",
    "x = np.arange(0, 5, 0.1)\n",
    "y = np.sin(x)\n",
    "plt.show()"
   ]
  },
  {
   "cell_type": "code",
   "execution_count": null,
   "metadata": {},
   "outputs": [],
   "source": [
    "## Boxplots with major and yearsExperience\n",
    "w = sns.boxplot(data = data2, x = 'major', y = 'yearsExperience')\n",
    "rcParams['figure.figsize'] = 20,15\n",
    "x = np.arange(0, 5, 0.1)\n",
    "y = np.sin(x)\n",
    "plt.show()"
   ]
  },
  {
   "cell_type": "markdown",
   "metadata": {},
   "source": [
    "## Correlation"
   ]
  },
  {
   "cell_type": "code",
   "execution_count": null,
   "metadata": {},
   "outputs": [],
   "source": [
    "from scipy import stats"
   ]
  },
  {
   "cell_type": "markdown",
   "metadata": {},
   "source": [
    "### Let's calculate the Pearson Correlation Coefficient and P-value of some variables"
   ]
  },
  {
   "cell_type": "code",
   "execution_count": null,
   "metadata": {},
   "outputs": [],
   "source": [
    "# yearsExperience and salary\n",
    "pearson_coef, p_value = stats.pearsonr(data2['yearsExperience'], data3['salary'])\n",
    "print(\"The Pearson Correlation Coefficient is\", pearson_coef, \"with a P-value of P =\", p_value)"
   ]
  },
  {
   "cell_type": "code",
   "execution_count": null,
   "metadata": {},
   "outputs": [],
   "source": [
    "# milesFromMetropolis and salary\n",
    "pearson_coef, p_value = stats.pearsonr(data2['milesFromMetropolis'], data3['salary'])\n",
    "print(\"The Pearson Correlation Coefficient is\", pearson_coef, \"with a P-value of P =\", p_value)"
   ]
  },
  {
   "cell_type": "markdown",
   "metadata": {},
   "source": [
    "## Model Development and Evaluation"
   ]
  },
  {
   "cell_type": "markdown",
   "metadata": {},
   "source": [
    "### Simple Linear Regression with 'yearsExperience' as a variable"
   ]
  },
  {
   "cell_type": "code",
   "execution_count": null,
   "metadata": {},
   "outputs": [],
   "source": [
    "from sklearn.linear_model import LinearRegression"
   ]
  },
  {
   "cell_type": "code",
   "execution_count": null,
   "metadata": {},
   "outputs": [],
   "source": [
    "# Create the linear regression object\n",
    "lm = LinearRegression()\n",
    "lm"
   ]
  },
  {
   "cell_type": "code",
   "execution_count": null,
   "metadata": {},
   "outputs": [],
   "source": [
    "# Let's see how \"yearsExperience\" can help us predict salary, by creating a linear function with \"yearsExperience\" as the predictor variable and the \"salary\" as the target variable\n",
    "X = data2[['yearsExperience']]\n",
    "Y = data3['salary']"
   ]
  },
  {
   "cell_type": "code",
   "execution_count": null,
   "metadata": {},
   "outputs": [],
   "source": [
    "# Fit the linear model using yearsExperience\n",
    "lm.fit(X,Y)"
   ]
  },
  {
   "cell_type": "code",
   "execution_count": null,
   "metadata": {},
   "outputs": [],
   "source": [
    "# Calculating the R^2 (R- squared) as follows:\n",
    "lm.score(X,Y)"
   ]
  },
  {
   "cell_type": "code",
   "execution_count": null,
   "metadata": {},
   "outputs": [],
   "source": [
    "# Output a prediction\n",
    "Y = lm.predict(X)\n",
    "Y[0]"
   ]
  },
  {
   "cell_type": "code",
   "execution_count": null,
   "metadata": {},
   "outputs": [],
   "source": [
    "# Know the value of the intercept (b)\n",
    "lm.intercept_"
   ]
  },
  {
   "cell_type": "code",
   "execution_count": null,
   "metadata": {},
   "outputs": [],
   "source": [
    "# Know the value of the Slope (a)\n",
    "lm.coef_"
   ]
  },
  {
   "cell_type": "code",
   "execution_count": null,
   "metadata": {},
   "outputs": [],
   "source": [
    "## Final estimated linear model:\n",
    "## X = Predictor Variable(yearsExperience)\n",
    "## Y = Target Variable(salary)\n",
    "## Y = aX + b\n",
    "\n",
    "## Y = 2.01316292X + 91.91919121041059   ## For a Prediction\n",
    "## Y = 2X + 91\n",
    "## salary = 2*yearsExperience + 91\n",
    "\n",
    "## Fitting a Simple Linear Model Estimator\n",
    "## For X = 0        Y = 91\n",
    "## For X = 5        Y = 101\n",
    "## For X = 10       Y = 111\n",
    "## For X = 15       Y = 121"
   ]
  },
  {
   "cell_type": "markdown",
   "metadata": {},
   "source": [
    "### Model Evaluation using Visualization"
   ]
  },
  {
   "cell_type": "code",
   "execution_count": null,
   "metadata": {},
   "outputs": [],
   "source": [
    "# Regression Plot\n",
    "sns.set_style('dark')\n",
    "sns.regplot(data2['yearsExperience'], data3['salary'], color = 'purple')\n",
    "plt.xlabel('yearsExperience', fontsize = 20, color = 'Blue')\n",
    "plt.ylabel('salary', fontsize = 20, color = 'Green')\n",
    "plt.xticks(fontsize = 20)\n",
    "plt.yticks(fontsize = 20)\n",
    "rcParams['figure.figsize'] = 12,8\n",
    "x = np.arange(0, 5, 0.1)\n",
    "y = np.sin(x)\n",
    "plt.show()"
   ]
  },
  {
   "cell_type": "code",
   "execution_count": null,
   "metadata": {},
   "outputs": [],
   "source": [
    "# Residual Plot\n",
    "sns.set_style('white')\n",
    "sns.residplot(data2['yearsExperience'], data3['salary'], color = 'Orange')\n",
    "plt.xlabel('yearsExperience', fontsize = 20, color = 'Blue')\n",
    "plt.ylabel('salary', fontsize = 20, color = 'Green')\n",
    "plt.xticks(fontsize = 20)\n",
    "plt.yticks(fontsize = 20)\n",
    "rcParams['figure.figsize'] = 10,5\n",
    "x = np.arange(0, 5, 0.1)\n",
    "y = np.sin(x)\n",
    "plt.show()"
   ]
  },
  {
   "cell_type": "markdown",
   "metadata": {},
   "source": [
    "### Calculating Ridge Regression (RR)"
   ]
  },
  {
   "cell_type": "code",
   "execution_count": null,
   "metadata": {},
   "outputs": [],
   "source": [
    "from sklearn.linear_model import Ridge"
   ]
  },
  {
   "cell_type": "code",
   "execution_count": null,
   "metadata": {},
   "outputs": [],
   "source": [
    "RidgeModel = Ridge(alpha = 0.1)\n",
    "RidgeModel.fit(X,Y)"
   ]
  },
  {
   "cell_type": "code",
   "execution_count": null,
   "metadata": {},
   "outputs": [],
   "source": [
    "Y = RidgeModel.predict(X)\n",
    "Y"
   ]
  },
  {
   "cell_type": "code",
   "execution_count": null,
   "metadata": {},
   "outputs": [],
   "source": []
  }
 ],
 "metadata": {
  "kernelspec": {
   "display_name": "Python 3",
   "language": "python",
   "name": "python3"
  },
  "language_info": {
   "codemirror_mode": {
    "name": "ipython",
    "version": 3
   },
   "file_extension": ".py",
   "mimetype": "text/x-python",
   "name": "python",
   "nbconvert_exporter": "python",
   "pygments_lexer": "ipython3",
   "version": "3.8.5"
  }
 },
 "nbformat": 4,
 "nbformat_minor": 4
}
